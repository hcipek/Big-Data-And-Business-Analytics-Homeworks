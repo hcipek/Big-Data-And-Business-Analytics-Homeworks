{
 "cells": [
  {
   "cell_type": "raw",
   "id": "efa2bd11",
   "metadata": {},
   "source": [
    "# Hakan Can İpek, 528211011"
   ]
  },
  {
   "cell_type": "code",
   "execution_count": 34,
   "id": "ddeec9b8",
   "metadata": {},
   "outputs": [],
   "source": [
    "def problem1(startYear):\n",
    "    leapYearFunctionWithLowBoundYear(startYear, 1600)\n",
    "\n",
    "def leapYearFunctionWithLowBoundYear(startYear, lowBoundYear):\n",
    "    newStartYear = startYear\n",
    "    leapYearCount = 0\n",
    "    while newStartYear > lowBoundYear:\n",
    "        if newStartYear % 4 == 0 and (newStartYear % 100 != 0 or newStartYear %400 == 0):\n",
    "            leapYearCount+=1\n",
    "        newStartYear-=1\n",
    "    print(\"the number of leap years from \",lowBoundYear, \" until \",startYear, \" is \", leapYearCount)\n",
    "        \n",
    "        "
   ]
  },
  {
   "cell_type": "code",
   "execution_count": 33,
   "id": "83ca0328",
   "metadata": {
    "scrolled": true
   },
   "outputs": [
    {
     "name": "stdout",
     "output_type": "stream",
     "text": [
      "the number of leap years from  1600  until  2020  is  102\n"
     ]
    }
   ],
   "source": [
    "problem1(2020)"
   ]
  },
  {
   "cell_type": "raw",
   "id": "49a8e514",
   "metadata": {},
   "source": [
    "# the number of leap years from  1600  until  2020  is  102\n"
   ]
  },
  {
   "cell_type": "code",
   "execution_count": 66,
   "id": "48e78696",
   "metadata": {},
   "outputs": [],
   "source": [
    "import random\n",
    "\n",
    "def problem2():\n",
    "    randomGeneratorWithSeed(18)\n",
    "\n",
    "def randomGeneratorWithSeed(seed):\n",
    "    randomNumberList = []\n",
    "    random.seed(seed)\n",
    "    for x in range(20):\n",
    "        randomNumberList.append(random.randrange(1,100))\n",
    "    print(\"the number in the list: \", randomNumberList)\n",
    "    \n",
    "    #simple sort method will do the trick\n",
    "    randomNumberList.sort(reverse=True)\n",
    "    print(\"the sorted list: \", randomNumberList)\n",
    "    \n",
    "    #used built-in sum method for get sum of our numeric list, divided to before known length value of list, for unknow lengths, len(list) method also can be used\n",
    "    print(\"the average of the list: \",sum(randomNumberList)/20)\n",
    "    \n",
    "    #to make our function seem less complex, i moved even founder part of code to another function, which can be seen in below\n",
    "    getEvenNumbers(randomNumberList)\n",
    "    \n",
    "    #list could have repeated elements so we need to make our list distinct, ordered and get first and last elements\n",
    "    distinctList = list(set(randomNumberList))\n",
    "    distinctList.sort()\n",
    "    print(\"the largest element of the list: \", distinctList[len(distinctList)-1])\n",
    "    print(\"the smallest element of the list: \", distinctList[0])\n",
    "    \n",
    "    #likewise before second element is second largest and length - 2 sized element is second smallest\n",
    "    print(\"the second smallest element of the list: \", distinctList[1])\n",
    "    print(\"the second largest element of the list: \", distinctList[len(distinctList)-2])\n",
    "    \n",
    "def getEvenNumbers(list):\n",
    "    evenNumberCount=0\n",
    "    for x in list:\n",
    "        if x%2 == 0:\n",
    "            evenNumberCount+=1\n",
    "    print(\"the number of even-numbers is : \", evenNumberCount)"
   ]
  },
  {
   "cell_type": "code",
   "execution_count": 67,
   "id": "71b3c6c7",
   "metadata": {},
   "outputs": [
    {
     "name": "stdout",
     "output_type": "stream",
     "text": [
      "the number in the list:  [24, 16, 85, 58, 43, 31, 26, 63, 81, 64, 24, 62, 38, 59, 34, 26, 33, 89, 16, 42]\n",
      "the sorted list:  [89, 85, 81, 64, 63, 62, 59, 58, 43, 42, 38, 34, 33, 31, 26, 26, 24, 24, 16, 16]\n",
      "the average of the list:  45.7\n",
      "the number of even-numbers is :  12\n",
      "the largest element of the list:  89\n",
      "the smallest element of the list:  16\n",
      "the second smallest element of the list:  24\n",
      "the second largest element of the list:  85\n"
     ]
    }
   ],
   "source": [
    "problem2()"
   ]
  },
  {
   "cell_type": "raw",
   "id": "caa7c189",
   "metadata": {},
   "source": [
    "# the number in the list:  [24, 16, 85, 58, 43, 31, 26, 63, 81, 64, 24, 62, 38, 59, 34, 26, 33, 89, 16, 42]\n",
    "# the sorted list:  [89, 85, 81, 64, 63, 62, 59, 58, 43, 42, 38, 34, 33, 31, 26, 26, 24, 24, 16, 16]\n",
    "# the average of the list:  45.7\n",
    "# the number of even-numbers is :  12\n",
    "# the largest element of the list:  89\n",
    "# the smallest element of the list:  16\n",
    "# the second smallest element of the list:  24\n",
    "# the second largest element of the list:  85"
   ]
  },
  {
   "cell_type": "code",
   "execution_count": 71,
   "id": "99f76e7a",
   "metadata": {},
   "outputs": [],
   "source": [
    "def problem3(count):\n",
    "    fibonacciList = []\n",
    "    fibonacciRecursion(count, fibonacciList)\n",
    "    \n",
    "def fibonacciRecursion(count, _list):\n",
    "    if count == 0:\n",
    "        print(_list)\n",
    "    else:\n",
    "        listLen = len(_list)\n",
    "        if listLen == 0 :\n",
    "            _list.append(1)\n",
    "            _list.append(1)\n",
    "            count-=2\n",
    "            fibonacciRecursion(count, _list)\n",
    "        else:\n",
    "            first = _list[listLen-2]\n",
    "            second = _list[listLen-1]\n",
    "            _list.append(first+second)\n",
    "            count-=1\n",
    "            fibonacciRecursion(count, _list)\n",
    "    \n",
    "    \n",
    "    "
   ]
  },
  {
   "cell_type": "code",
   "execution_count": 72,
   "id": "c40b775c",
   "metadata": {},
   "outputs": [
    {
     "name": "stdout",
     "output_type": "stream",
     "text": [
      "[1, 1, 2, 3, 5, 8, 13, 21, 34, 55]\n"
     ]
    }
   ],
   "source": [
    "problem3(10)"
   ]
  },
  {
   "cell_type": "raw",
   "id": "31aa3bbd",
   "metadata": {},
   "source": [
    "# [1, 1, 2, 3, 5, 8, 13, 21, 34, 55]"
   ]
  },
  {
   "cell_type": "code",
   "execution_count": 154,
   "id": "5791cd6b",
   "metadata": {},
   "outputs": [],
   "source": [
    "def problem4(path):\n",
    "    gdpPerCapita(path, \"Turkey\")\n",
    "    \n",
    "def gdpPerCapita(path, country):\n",
    "    #Csv to Dictonary Conversion moved into function to show method less complex more simple\n",
    "    gdpPerYear = convertCsvIntoDictionary(path, country)\n",
    "    \n",
    "    highestIncreasedYear=\"\"\n",
    "    highestIncreasedValue=0\n",
    "    decreasedYears=[]\n",
    "    gdpPerYear.pop(\"Country Name\")\n",
    "    lastYear = list(gdpPerYear.keys())[0]\n",
    "    lastValue = gdpPerYear[lastYear]\n",
    "    gdpPerYear.pop(lastYear)\n",
    "    for key,value in gdpPerYear.items():\n",
    "        v1 = float(lastValue)\n",
    "        v2 = float(value)\n",
    "        if v2>v1:\n",
    "            percentage=(v2-v1)/v1\n",
    "            if percentage>highestIncreasedValue:\n",
    "                highestIncreasedYear = key\n",
    "                highestIncreasedValue = percentage\n",
    "        elif v2<v1:\n",
    "            decreasedYears.append(key)\n",
    "        lastYear=key\n",
    "        lastValue=value\n",
    "    print(\"the highest increase happened in the year \", highestIncreasedYear)\n",
    "    print(\"years that GDP per capita decreased compared to previous year: \", decreasedYears)\n",
    "            \n",
    "        \n",
    "        \n",
    "    \n",
    "def convertCsvIntoDictionary(path, country):\n",
    "    mainRowList = []\n",
    "    countryRowList = []\n",
    "    from csv import reader\n",
    "    with open(path, 'r', newline='') as read_obj:\n",
    "        csv_reader = reader(read_obj, delimiter = ';')\n",
    "        # Pass reader object to list() to get a list of lists\n",
    "        list_of_rows = list(csv_reader)\n",
    "        for x in list_of_rows:\n",
    "            if \"Country Name\" in x:\n",
    "                mainRowList=x\n",
    "            elif country in x:\n",
    "                countryRowList=x\n",
    "    dictionary = dict(zip(mainRowList, countryRowList))\n",
    "    return dictionary"
   ]
  },
  {
   "cell_type": "code",
   "execution_count": 155,
   "id": "ad94796e",
   "metadata": {},
   "outputs": [
    {
     "name": "stdout",
     "output_type": "stream",
     "text": [
      "the highest increase happened in the year  1998\n",
      "years that GDP per capita decreased compared to previous year:  ['1961', '1970', '1971', '1980', '1982', '1983', '1984', '1991', '1994', '1999', '2001', '2009', '2014', '2015', '2016', '2017']\n"
     ]
    }
   ],
   "source": [
    "problem4(\"C:/Users/ipekh/Desktop/Big Data Homeworks/Advances in Data Science/homework1-data/homework1-data/gdp_per_capita.csv\")"
   ]
  },
  {
   "cell_type": "raw",
   "id": "b21b3e5a",
   "metadata": {},
   "source": [
    "the highest increase happened in the year  1998\n",
    "years that GDP per capita decreased compared to previous year:  ['1961', '1970', '1971', '1980', '1982', '1983', '1984', '1991', '1994', '1999', '2001', '2009', '2014', '2015', '2016', '2017']"
   ]
  },
  {
   "cell_type": "code",
   "execution_count": 190,
   "id": "8e0f5f7c",
   "metadata": {},
   "outputs": [],
   "source": [
    "def problem5(names, scores):\n",
    "    printTop3Scorers(names, scores)\n",
    "    \n",
    "def printTop3Scorers(names, scores):\n",
    "    #Creating reverse ordered name score dictionary\n",
    "    dictionary = {k: v for k, v in sorted(dict(zip(names, scores)).items(), key=lambda item: item[1], reverse=True)}\n",
    "    scoreKeyDict = {}\n",
    "    count=0\n",
    "    #Getting MultiValueDictionary of top 3, scores as keys, names as values\n",
    "    for k, v in dictionary.items():\n",
    "        _list=[]\n",
    "        if v in scoreKeyDict.keys():\n",
    "            _list = scoreKeyDict[v]\n",
    "            _list.append(k)\n",
    "            scoreKeyDict[v]=_list\n",
    "        elif count<3:\n",
    "            count+=1\n",
    "            _list.append(k)\n",
    "            scoreKeyDict[v]=_list\n",
    "    #Printing result\n",
    "    count=1\n",
    "    for k, v in scoreKeyDict.items():\n",
    "        print(\"rank \", count, \" \", v, \" score: \", k)\n",
    "        count+=1\n",
    "        \n",
    "        \n",
    "    "
   ]
  },
  {
   "cell_type": "code",
   "execution_count": 191,
   "id": "f4dbc190",
   "metadata": {},
   "outputs": [
    {
     "name": "stdout",
     "output_type": "stream",
     "text": [
      "rank  1   ['David']  score:  99\n",
      "rank  2   ['Steven', 'Eric']  score:  98\n",
      "rank  3   ['Richard', 'Debra']  score:  97\n"
     ]
    }
   ],
   "source": [
    "names = [\"David\", \"Michael\", \"John\", \"James\", \"Greg\", \"Mark\", \"William\", \"Richard\", \"Thomas\",\n",
    "\"Steven\", \"Mary\", \"Susan\", \"Maria\", \"Karen\", \"Lisa\", \"Linda\", \"Donna\", \"Patricia\", \"Debra\", \"Eric\"]\n",
    "scores = [99, 87, 78, 86, 68, 94, 76, 97, 56, 98, 76, 87, 79, 90, 73, 93, 82, 69, 97, 98]\n",
    "problem5(names, scores)"
   ]
  },
  {
   "cell_type": "raw",
   "id": "86464d16",
   "metadata": {},
   "source": [
    "rank  1   ['David']  score:  99\n",
    "rank  2   ['Steven', 'Eric']  score:  98\n",
    "rank  3   ['Richard', 'Debra']  score:  97"
   ]
  },
  {
   "cell_type": "code",
   "execution_count": 238,
   "id": "69542bab",
   "metadata": {},
   "outputs": [],
   "source": [
    "import random\n",
    "\n",
    "def problem6():\n",
    "    createAndDetectMagicSquare(4, 4, 4)\n",
    "    problem7()\n",
    "    \n",
    "def createAndDetectMagicSquare(numRange, matrixX, matrixY):\n",
    "    matrixCount = 0\n",
    "    magicFound = False\n",
    "    _list = []\n",
    "    while (not magicFound):\n",
    "        _list = [[random.randrange(1,numRange+1) for i in range(matrixY)] for i in range(matrixX)]\n",
    "        matrixCount+=1\n",
    "        magicFound = checkMatrixIsJinxed(_list, matrixX, matrixY)\n",
    "    print(\"the number of random matrices created: \", matrixCount)\n",
    "    print(\"the magic square found is \", _list)\n",
    "    \n",
    "def checkMatrixIsJinxed(l, matrixX, matrixY):\n",
    "    magicNumber = 0\n",
    "    #easy part check rows\n",
    "    for row in l:\n",
    "        if magicNumber == 0:\n",
    "            magicNumber = getSumOfTheList(row)\n",
    "        else:\n",
    "            currentSum = getSumOfTheList(row)\n",
    "            if currentSum != magicNumber:\n",
    "                return False\n",
    "    #little trouble count columns\n",
    "    for i in range(0, matrixY):\n",
    "        column = []\n",
    "        for j in range(0, matrixX):\n",
    "            column.append(l[j][i])\n",
    "        currentSum = getSumOfTheList(column)\n",
    "        if currentSum != magicNumber:\n",
    "            return False\n",
    "    #final test diagonals\n",
    "    diagonal1 = []\n",
    "    diagonal2 = []\n",
    "    for i in range(0, matrixX):\n",
    "        diagonal1.append(l[i][i])\n",
    "        diagonal2.append(l[i][matrixY-1-i])\n",
    "    \n",
    "    if (getSumOfTheList(diagonal1) != magicNumber or getSumOfTheList(diagonal2) != magicNumber):\n",
    "        return False\n",
    "    return True\n",
    "\n",
    "def getSumOfTheList(l):\n",
    "    sum = 0\n",
    "    for x in l:\n",
    "        sum+=x\n",
    "    return sum\n",
    "\n",
    "def problem7():\n",
    "    file = open('homework1_survey.txt', 'w')\n",
    "    file.write(\"Hours spent on this homework : 5\\n\")\n",
    "    file.write(\"Difficulty level of this homework : 3\\n\")\n",
    "    file.close()"
   ]
  },
  {
   "cell_type": "code",
   "execution_count": 239,
   "id": "23d9507b",
   "metadata": {},
   "outputs": [
    {
     "name": "stdout",
     "output_type": "stream",
     "text": [
      "the number of random matrices created:  1727556\n",
      "the magic square found is  [[3, 2, 3, 4], [4, 3, 3, 2], [4, 4, 2, 2], [1, 3, 4, 4]]\n"
     ]
    }
   ],
   "source": [
    "problem6()"
   ]
  },
  {
   "cell_type": "code",
   "execution_count": null,
   "id": "c4a8494b",
   "metadata": {},
   "outputs": [],
   "source": []
  }
 ],
 "metadata": {
  "kernelspec": {
   "display_name": "Python 3",
   "language": "python",
   "name": "python3"
  },
  "language_info": {
   "codemirror_mode": {
    "name": "ipython",
    "version": 3
   },
   "file_extension": ".py",
   "mimetype": "text/x-python",
   "name": "python",
   "nbconvert_exporter": "python",
   "pygments_lexer": "ipython3",
   "version": "3.8.8"
  }
 },
 "nbformat": 4,
 "nbformat_minor": 5
}
