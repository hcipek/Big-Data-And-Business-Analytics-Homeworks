{
 "cells": [
  {
   "cell_type": "code",
   "execution_count": null,
   "id": "6873037a",
   "metadata": {},
   "outputs": [],
   "source": [
    "# Hakan Can İpek, 528211011, Dec 6, 2021"
   ]
  },
  {
   "cell_type": "code",
   "execution_count": 58,
   "id": "83478b51",
   "metadata": {},
   "outputs": [],
   "source": [
    "from csv import reader\n",
    "from collections import Counter\n",
    "  \n",
    "def problem1(path):\n",
    "    manufacturerSet = set()\n",
    "    soldCarsIn2010 = dict()\n",
    "    with open(path, 'r', newline='') as read_obj:\n",
    "        csv_reader = reader(read_obj, delimiter = ',')\n",
    "        header = next(csv_reader)\n",
    "        # Pass reader object to list() to get a list of lists\n",
    "        list_of_rows = list(csv_reader)\n",
    "        for x in list_of_rows:\n",
    "            if (x[2] == '\\xa0Mercedes-Benz '):\n",
    "                x[2] = 'Mercedes-Benz '\n",
    "            manufacturerSet.add(x[2])\n",
    "            if (x[0] == '2010'):\n",
    "                if (x[2] in soldCarsIn2010):\n",
    "                    val = soldCarsIn2010[x[2]]\n",
    "                    val += int(x[4])\n",
    "                    soldCarsIn2010[x[2]] = val\n",
    "                else:\n",
    "                    soldCarsIn2010[x[2]] = int(x[4])\n",
    "    print(\"the number of unique manufacturers in this dataset is :\", len(manufacturerSet))\n",
    "    k = Counter(soldCarsIn2010)\n",
    "    high = k.most_common(1)\n",
    "    print('\\\"', high[0][0],'\\\" has the highest sales in 2010, which is ', high[0][1], sep=\"\")"
   ]
  },
  {
   "cell_type": "code",
   "execution_count": 59,
   "id": "8c255071",
   "metadata": {},
   "outputs": [
    {
     "name": "stdout",
     "output_type": "stream",
     "text": [
      "the number of unique manufacturers in this dataset is : 22\n",
      "\"Volkswagen \" has the highest sales in 2010, which is 16118\n"
     ]
    }
   ],
   "source": [
    "problem1(\"C:\\\\Users\\\\ipekh\\\\Desktop\\\\Big Data Homeworks\\\\Advances in Data Science\\\\midterm_data\\\\norway_new_car_sales_by_model.csv\")"
   ]
  },
  {
   "cell_type": "code",
   "execution_count": 169,
   "id": "9191816b",
   "metadata": {},
   "outputs": [],
   "source": [
    "import os\n",
    "import pathlib\n",
    "import timeit\n",
    "\n",
    "def problem3(path):\n",
    "    start = timeit.default_timer()\n",
    "    totalModifyCount = 0\n",
    "    for root, dirs, files in os.walk(path):\n",
    "        for x in files:\n",
    "            from re import search\n",
    "            rx = search(\".pdbqt\", x)\n",
    "            if rx:\n",
    "                nx = root + \"\\\\\" + x\n",
    "                newFileName = \"\"\n",
    "                from csv import reader\n",
    "                with open(nx, 'r', newline='') as read_obj:\n",
    "                    csv_reader = reader(read_obj)\n",
    "                    list_of_rows = list(csv_reader)\n",
    "                    name = list_of_rows[0][0]\n",
    "                    newFileName = name[15:]\n",
    "                newFileName += \".pdbqt\"\n",
    "                os.rename(nx, root + \"\\\\\" + newFileName)\n",
    "                totalModifyCount += 1\n",
    "    stop = timeit.default_timer()\n",
    "    print('the number of processed files:', totalModifyCount)\n",
    "    print('estimated hours to process three million files:', stop - start)  "
   ]
  },
  {
   "cell_type": "code",
   "execution_count": 170,
   "id": "1ef8a79d",
   "metadata": {},
   "outputs": [
    {
     "name": "stdout",
     "output_type": "stream",
     "text": [
      "the number of processed files: 38\n",
      "estimated hours to process three million files: 0.019933499999751803\n"
     ]
    }
   ],
   "source": [
    "problem3(\"C:\\\\Users\\\\ipekh\\\\Desktop\\\\Big Data Homeworks\\\\Advances in Data Science\\\\midterm_data\\\\mol_files\")"
   ]
  },
  {
   "cell_type": "code",
   "execution_count": 7,
   "id": "42224d7f",
   "metadata": {},
   "outputs": [],
   "source": [
    "class Rating:\n",
    "    def __init__(this, _list):\n",
    "        this.id = _list[0]\n",
    "        this.movieId = _list[2]\n",
    "        this.stars = _list[4]\n",
    "        this.epoch = _list[6]\n",
    "        \n",
    "    def getData(this):\n",
    "        return '{0}::{1}::{2}::{3}'.format(this.id, this.movieId, this.stars, this.epoch)\n",
    "        \n",
    "class User:\n",
    "    def __init__(this, _list):\n",
    "        this.id = _list[0]\n",
    "        this.gender = _list[2]\n",
    "        this.age = _list[4]\n",
    "        this.occ = _list[6]\n",
    "        this.zip = _list[8]\n",
    "        \n",
    "    def getData(this):\n",
    "        return '{0}::{1}::{2}::{3}'.format(this.gender, this.age, this.occ, this.zip)\n",
    "        \n",
    "class Movie:\n",
    "    def __init__(this, _list):\n",
    "        this.id = _list[0]\n",
    "        this.title = _list[2][:-7]\n",
    "        this.genres = _list[4]\n",
    "        this.year = _list[2][-5:-1]\n",
    "        \n",
    "    def getData(this):\n",
    "        return '{0}::{1}::{2}'.format(this.title, this.genres, this.year)\n",
    "        "
   ]
  },
  {
   "cell_type": "code",
   "execution_count": 90,
   "id": "66bcf1d8",
   "metadata": {},
   "outputs": [],
   "source": [
    "import timeit\n",
    "from csv import reader\n",
    "\n",
    "def problem4(moviePath, userPath, ratingPath, mergedPath):\n",
    "    start = timeit.default_timer()\n",
    "    movies = dict()\n",
    "    users = dict()\n",
    "    ratings = dict()\n",
    "    with open(ratingPath, 'r', newline='') as read_obj:\n",
    "        csv_reader = reader(read_obj, delimiter = ':')\n",
    "        list_of_rows = list(csv_reader)\n",
    "        for x in list_of_rows:\n",
    "            rate = Rating(x)\n",
    "            if rate.id in ratings:\n",
    "                _l = ratings[rate.id]\n",
    "                _l.append(rate)\n",
    "            else: _l = [rate]\n",
    "            ratings[rate.id] = _l\n",
    "    with open(userPath, 'r', newline='') as read_obj:\n",
    "        csv_reader = reader(read_obj, delimiter = ':')\n",
    "        list_of_rows = list(csv_reader)\n",
    "        for x in list_of_rows: \n",
    "            user = User(x)\n",
    "            users[user.id] = user\n",
    "    with open(moviePath, 'r', newline='') as read_obj:\n",
    "        csv_reader = reader(read_obj, delimiter = ':')\n",
    "        list_of_rows = list(csv_reader)\n",
    "        for x in list_of_rows: \n",
    "            movie = Movie(x)\n",
    "            movies[movie.id] = movie\n",
    "    mergedList = list()\n",
    "    for userId, user in users.items():\n",
    "        for rate in ratings[userId]:\n",
    "            merged = rate.getData() + \"::\" + user.getData() + \"::\" + movies[rate.movieId].getData()\n",
    "            mergedList.append(merged)\n",
    "    \n",
    "    stop = timeit.default_timer()\n",
    "    print('time before write:', stop - start) \n",
    "    with open(mergedPath, 'w', newline = '') as mergeFile:\n",
    "        for x in mergedList:\n",
    "            mergeFile.write(x)\n",
    "            mergeFile.write('\\n')\n",
    "            \n",
    "    stop = timeit.default_timer()\n",
    "    print('time after write:', stop - start) "
   ]
  },
  {
   "cell_type": "code",
   "execution_count": 91,
   "id": "f6bfb01d",
   "metadata": {},
   "outputs": [
    {
     "name": "stdout",
     "output_type": "stream",
     "text": [
      "time before write: 6.527592200000072\n",
      "time after write: 7.800019700000121\n"
     ]
    }
   ],
   "source": [
    "problem4(\"C:\\\\Users\\\\ipekh\\\\Desktop\\\\Big Data Homeworks\\\\Advances in Data Science\\\\midterm_data\\\\ml-1m\\\\movies.dat\", \"C:\\\\Users\\\\ipekh\\\\Desktop\\\\Big Data Homeworks\\\\Advances in Data Science\\\\midterm_data\\\\ml-1m\\\\users.dat\", \"C:\\\\Users\\\\ipekh\\\\Desktop\\\\Big Data Homeworks\\\\Advances in Data Science\\\\midterm_data\\\\ml-1m\\\\ratings.dat\", \"merged.dat\")"
   ]
  },
  {
   "cell_type": "code",
   "execution_count": null,
   "id": "67de65d0",
   "metadata": {},
   "outputs": [],
   "source": [
    "problem4():\n",
    "    import pandas as pd\n",
    "    movies=pd.read_table(r\"C:\\Users\\ipekh\\Desktop\\Big Data Homeworks\\Advances in Data Science\\midterm_data\\ml-1m\\movies.dat\", sep=\"::\", header=None, names=[\"MovieID\", \"Title\", \"Genres\"], engine='python')\n",
    "    ratings=pd.read_table(r\"C:\\Users\\ipekh\\Desktop\\Big Data Homeworks\\Advances in Data Science\\midterm_data\\ml-1m\\ratings.dat\", sep=\"::\", header=None, engine='python', names=[\"UserID\", \"MovieID\", \"Rating\", \"Timestamp\"])\n",
    "    users=pd.read_table(r\"C:\\Users\\ipekh\\Desktop\\Big Data Homeworks\\Advances in Data Science\\midterm_data\\ml-1m\\users.dat\", sep=\"::\", header=None, engine='python', names=[\"UserID\", \"Gender\", \"Age\", \"Occupation\", \"Zip\"])\n",
    "    movies[\"year\"] = movies[\"Title\"].str[-5:-1]\n",
    "    movies[\"title\"] = movies[\"Title\"].str[:-7]\n",
    "    movies=movies.drop([\"Title\"], axis=1) \n",
    "    ratings[\"Timestamp\"] = pd.to_datetime(ratings[\"Timestamp\"], unit='s')\n",
    "    merge1= pd.merge(movies, ratings ,how=\"left\", on=[\"MovieID\", \"MovieID\"])\n",
    "    finaltable= pd.merge(merge1, users ,how=\"left\", on=[\"UserID\", \"UserID\"])\n",
    "    x = finaltable.to_string(header=False,\n",
    "                      index=False,\n",
    "                      index_names=False).split(sep=\"\\n\")\n",
    "    text = ['::'.join(ele.split()) for ele in x];text"
   ]
  },
  {
   "cell_type": "code",
   "execution_count": null,
   "id": "f36ca599",
   "metadata": {},
   "outputs": [],
   "source": [
    "problem4()"
   ]
  },
  {
   "cell_type": "code",
   "execution_count": null,
   "id": "4b7c42b3",
   "metadata": {},
   "outputs": [],
   "source": []
  }
 ],
 "metadata": {
  "kernelspec": {
   "display_name": "Python 3",
   "language": "python",
   "name": "python3"
  },
  "language_info": {
   "codemirror_mode": {
    "name": "ipython",
    "version": 3
   },
   "file_extension": ".py",
   "mimetype": "text/x-python",
   "name": "python",
   "nbconvert_exporter": "python",
   "pygments_lexer": "ipython3",
   "version": "3.8.8"
  }
 },
 "nbformat": 4,
 "nbformat_minor": 5
}
