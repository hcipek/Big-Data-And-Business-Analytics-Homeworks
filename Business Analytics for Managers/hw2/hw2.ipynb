{
  "nbformat": 4,
  "nbformat_minor": 0,
  "metadata": {
    "colab": {
      "name": "Untitled0.ipynb",
      "provenance": [],
      "collapsed_sections": []
    },
    "kernelspec": {
      "name": "python3",
      "display_name": "Python 3"
    },
    "language_info": {
      "name": "python"
    }
  },
  "cells": [
    {
      "cell_type": "code",
      "metadata": {
        "id": "lfScqGORZ2y2",
        "colab": {
          "base_uri": "https://localhost:8080/"
        },
        "outputId": "67379aa5-cf3e-472e-e761-179ac6efb1f9"
      },
      "source": [
        "!pip install pulp \n",
        "from pulp import LpVariable, LpMinimize, LpStatus, LpProblem\n",
        "\n",
        "prob = LpProblem(\"Minimize_Course_Selection\",LpMinimize)\n",
        "\n",
        "#Decision Variables\n",
        "c1 = LpVariable(\"Calculus\", lowBound=0, upBound=1, cat=\"Integer\")\n",
        "c2 = LpVariable(\"Operations Research\", lowBound=0, upBound=1, cat=\"Integer\")\n",
        "c3 = LpVariable(\"Data Structures\", lowBound=0, upBound=1, cat=\"Integer\")\n",
        "c4 = LpVariable(\"Business Statistics\", lowBound=0, upBound=1, cat=\"Integer\")\n",
        "c5 = LpVariable(\"Computer Simulation\", lowBound=0, upBound=1, cat=\"Integer\")\n",
        "c6 = LpVariable(\"Introduction to Computer Programming\", lowBound=0, upBound=1, cat=\"Integer\")\n",
        "c7 = LpVariable(\"Forecasting\", lowBound=0, upBound=1, cat=\"Integer\")\n",
        "\n",
        "#Objective Function for Minimize Z\n",
        "prob += c1 + c2 + c3 + c4 + c5 + c6 + c7\n",
        "\n",
        "#Constraints of Problem\n",
        "prob += c1 + c2 + c3 + c4 + c7 >= 2, \"Math Course Requirements\"\n",
        "prob += c2 + c4 + c5 + c7 >= 2, \"Or Course Requirements\"\n",
        "prob += c3 + c5 + c6 >= 2, \"Computer Course Requirements\"\n",
        "\n",
        "prob += c4 <= c1, \"Calculus is a prerequisite for business statistics\"\n",
        "prob += c3 <= c6, \"introduction to computer programming is a prerequisite for computer simulation\"\n",
        "prob += c5 <= c6, \"introduction to computer programming is a prerequisite for data structures\"\n",
        "prob += c7 <= c4, \"business statistics is a prerequisite for forecasting\"\n",
        "\n",
        "prob.solve()\n",
        "\n",
        "\n",
        "print(\"Status:\", LpStatus[prob.status])\n",
        "\n",
        "for v in prob.variables():\n",
        "    print(v.name, \"=\", v.varValue)\n",
        "print(\"Total Course of the Process = \", prob.objective.value())\n",
        "\n",
        "#import pandas as pd\n",
        "##Report sensivity Analysis\n",
        "#print(\"\\nSensivity Analysis\")\n",
        "\n",
        "\n",
        "#Cons_Sensivity_Report = [{'Constraint_Name':name,'Slack':c.slack,\"Shadow_Price\":c.pi}\n",
        "#                        for name, c in prob.constraints.items()]  \n",
        "#print(pd.DataFrame(Cons_Sensivity_Report))\n",
        "#print(\"\\n\")\n",
        "#Variable_Sensitivity_Report = [{'Variable_Name': v.name, 'Value':v.varValue,'Reduced_Cost': v.dj}\n",
        "#                               for v in prob.variables()]\n",
        "\n",
        "#print(pd.DataFrame(Variable_Sensitivity_Report)[['Variable_Name','Value','Reduced_Cost']])\n"
      ],
      "execution_count": null,
      "outputs": [
        {
          "output_type": "stream",
          "name": "stdout",
          "text": [
            "Requirement already satisfied: pulp in /usr/local/lib/python3.7/dist-packages (2.5.1)\n",
            "Status: Optimal\n",
            "Business_Statistics = 0.0\n",
            "Calculus = 0.0\n",
            "Computer_Simulation = 1.0\n",
            "Data_Structures = 1.0\n",
            "Forecasting = 0.0\n",
            "Introduction_to_Computer_Programming = 1.0\n",
            "Operations_Research = 1.0\n",
            "Total Course of the Process =  4.0\n"
          ]
        }
      ]
    },
    {
      "cell_type": "markdown",
      "metadata": {
        "id": "vYg0lwP_Ix5V"
      },
      "source": [
        "```\n",
        "Business_Statistics = 0.0\n",
        "Calculus = 0.0\n",
        "Computer_Simulation = 1.0\n",
        "Data_Structures = 1.0\n",
        "Forecasting = 0.0\n",
        "Introduction_to_Computer_Programming = 1.0\n",
        "Operations_Research = 1.0\n",
        "Total Cost of the Process =  4.0\n",
        "```\n",
        "\n"
      ]
    },
    {
      "cell_type": "code",
      "metadata": {
        "colab": {
          "base_uri": "https://localhost:8080/"
        },
        "id": "nWfs28BLQ20z",
        "outputId": "f6c681f0-7b91-465f-87d5-9227ef3cab3a"
      },
      "source": [
        "from pulp import LpVariable, LpMinimize, LpStatus, LpProblem\n",
        "\n",
        "prob = LpProblem(\"Minimize_Total_Cost_Of_Weekly_Demands_Selection\",LpMinimize)\n",
        "\n",
        "#Decision Variables\n",
        "p1w = LpVariable(\"Production Line 1 Worker\", lowBound=0, cat=\"Integer\")\n",
        "p2w = LpVariable(\"Production Line 2 Worker\", lowBound=0, cat=\"Integer\")\n",
        "p1s = LpVariable(\"Production Line 1 Set up\", lowBound=0, upBound=1, cat=\"Integer\")\n",
        "p2s = LpVariable(\"Production Line 2 Set up\", lowBound=0, upBound=1, cat=\"Integer\")\n",
        "\n",
        "#Objective Function for Minimize Z\n",
        "prob += 1000*p1s + 2000*p2s + 500*p1w + 900*p2w\n",
        "\n",
        "#Constraints of Problem\n",
        "prob += 20*p1w + 50*p2w >= 120, \"Glue 1 Unit\"\n",
        "prob += 30*p1w + 35*p2w >= 150, \"Glue 2 Unit\"\n",
        "prob += 40*p1w + 45*p2w >= 200, \"Glue 3 Unit\"\n",
        "\n",
        "prob += p1w <= 7*p1s, \"Line 1 Utilization\"\n",
        "prob += p2w <= 7*p2s, \"Line 2 Utilization\"\n",
        "\n",
        "prob.solve()\n",
        "\n",
        "\n",
        "print(\"Status:\", LpStatus[prob.status])\n",
        "\n",
        "for v in prob.variables():\n",
        "    print(v.name, \"=\", v.varValue)\n",
        "print(\"Total Cost of the Process = \", prob.objective.value())"
      ],
      "execution_count": null,
      "outputs": [
        {
          "output_type": "stream",
          "name": "stdout",
          "text": [
            "Status: Optimal\n",
            "Production_Line_1_Set_up = 1.0\n",
            "Production_Line_1_Worker = 6.0\n",
            "Production_Line_2_Set_up = 0.0\n",
            "Production_Line_2_Worker = 0.0\n",
            "Total Cost of the Process =  4000.0\n"
          ]
        }
      ]
    },
    {
      "cell_type": "markdown",
      "metadata": {
        "id": "kj1eNjOTZnwe"
      },
      "source": [
        "\n",
        "\n",
        "```\n",
        "Production_Line_1_Set_up = 1.0\n",
        "Production_Line_1_Worker = 6.0\n",
        "Production_Line_2_Set_up = 0.0\n",
        "Production_Line_2_Worker = 0.0\n",
        "Total Cost of the Process =  4000.0\n",
        "```\n",
        "\n"
      ]
    },
    {
      "cell_type": "code",
      "metadata": {
        "colab": {
          "base_uri": "https://localhost:8080/",
          "height": 130
        },
        "id": "mczZZsgL8F6z",
        "outputId": "a2ea814f-d5ee-434a-a35a-c7a67e6ef595"
      },
      "source": [
        "\n",
        "\n"
      ],
      "execution_count": null,
      "outputs": [
        {
          "output_type": "error",
          "ename": "SyntaxError",
          "evalue": "ignored",
          "traceback": [
            "\u001b[0;36m  File \u001b[0;32m\"<ipython-input-12-9febd712c3ca>\"\u001b[0;36m, line \u001b[0;32m2\u001b[0m\n\u001b[0;31m    return -1*(l[0]*(30-l[0])+l[1]*(50-2*l[1])-3*l[0]-5*l[1]–10*l[2])\u001b[0m\n\u001b[0m                                                              ^\u001b[0m\n\u001b[0;31mSyntaxError\u001b[0m\u001b[0;31m:\u001b[0m invalid character in identifier\n"
          ]
        }
      ]
    },
    {
      "cell_type": "code",
      "metadata": {
        "id": "rHAULRaI8SNU"
      },
      "source": [
        "def const_1 (_list):\n",
        "  return _list[2] - _list[0] - _list[1]\n",
        "\n",
        "def const_2 (_list):\n",
        "  return 17.5 - _list[2]"
      ],
      "execution_count": null,
      "outputs": []
    },
    {
      "cell_type": "code",
      "metadata": {
        "id": "39MJ4Ow38SZL"
      },
      "source": [
        ""
      ],
      "execution_count": null,
      "outputs": []
    },
    {
      "cell_type": "code",
      "metadata": {
        "colab": {
          "base_uri": "https://localhost:8080/"
        },
        "id": "JHlhoXjjbOjM",
        "outputId": "9a1ad13f-a958-423f-b0e7-fb3ab67f68a2"
      },
      "source": [
        "import numpy as np\n",
        "from scipy.optimize import minimize\n",
        "\n",
        "def obj_funx (_list, sign=-1.0):\n",
        "  p1=_list[0]\n",
        "  p2=_list[1]\n",
        "  c=_list[2]\n",
        "\n",
        "  p1_price=30-p1\n",
        "  p2_price=50-2*p2\n",
        "\n",
        "  p1_cost=-3\n",
        "  p2_cost=-5\n",
        "  c_cost=-10\n",
        "\n",
        "  obj_func = p1*(p1_price) + p2*p2_price + p1*p1_cost + p2*p2_cost + c*c_cost\n",
        "  return sign*obj_func\n",
        "\n",
        "def const_1 (_list):\n",
        "  p1=_list[0]\n",
        "  p2=_list[1]\n",
        "  c=_list[2]\n",
        "  return c - p1 - p2\n",
        "\n",
        "def const_2 (_list):\n",
        "  c=_list[2]\n",
        "  return 17.5 - c\n",
        "\n",
        "variable_list = np.ones(3)\n",
        "\n",
        "\"\"\"\n",
        "Constraints for COBYLA, SLSQP are defined as a list of dictionaries. Each dictionary with fields:\n",
        "\n",
        "type:str\n",
        "Constraint type: ‘eq’ for equality, ‘ineq’ for inequality.\n",
        "\n",
        "fun:callable\n",
        "The function defining the constraint.\n",
        "\n",
        "jac:callable, optional\n",
        "The Jacobian of fun (only for SLSQP).\n",
        "\n",
        "args:sequence, optional\n",
        "Extra arguments to be passed to the function and Jacobian.\n",
        "\n",
        "Equality constraint means that the constraint function result is to be zero whereas inequality means that it is to be non-negative. Note that COBYLA only supports inequality constraints.\n",
        "\"\"\"\n",
        "all_const = ([{'type':'ineq', 'fun':const_1}, {'type':'ineq', 'fun':const_2}])\n",
        "\n",
        "minimize(obj_funx, variable_list, constraints=all_const, method='SLSQP')\n",
        "#minimize(obj_funx, variable_list, constraints=all_const, method='trust-constr')\n",
        "#minimize(obj_funx, variable_list, constraints=all_const, method='COBYLA')\n"
      ],
      "execution_count": 34,
      "outputs": [
        {
          "output_type": "execute_result",
          "data": {
            "text/plain": [
              "     fun: -225.3749999995488\n",
              "     jac: array([-10.00002289, -10.00004578,  10.        ])\n",
              " message: 'Optimization terminated successfully.'\n",
              "    nfev: 26\n",
              "     nit: 5\n",
              "    njev: 5\n",
              "  status: 0\n",
              " success: True\n",
              "       x: array([ 8.4999866 ,  8.74998869, 17.24997529])"
            ]
          },
          "metadata": {},
          "execution_count": 34
        }
      ]
    },
    {
      "cell_type": "markdown",
      "metadata": {
        "id": "zNMaVsxGw6y4"
      },
      "source": [
        "\n",
        "\n",
        "```\n",
        "     fun: -225.3749999995488\n",
        "     jac: array([-10.00002289, -10.00004578,  10.        ])\n",
        " message: 'Optimization terminated successfully.'\n",
        "    nfev: 26\n",
        "     nit: 5\n",
        "    njev: 5\n",
        "  status: 0\n",
        " success: True\n",
        "       x: array([ 8.4999866 ,  8.74998869, 17.24997529])\n",
        "```\n",
        "\n"
      ]
    },
    {
      "cell_type": "code",
      "metadata": {
        "id": "h7Yo39_-fq3X"
      },
      "source": [
        ""
      ],
      "execution_count": null,
      "outputs": []
    }
  ]
}